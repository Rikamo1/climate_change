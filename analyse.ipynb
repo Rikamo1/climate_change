{
 "cells": [
  {
   "cell_type": "markdown",
   "metadata": {},
   "source": [
    "# Datenherkunft\n",
    "## Dataset 1: owid-co2-data.csv\n",
    "Dieses Dataset stammt von der Webseite \"Our World in Data\" und basiert auf Daten des Global Carbon Project. Bei dem Original-Dataset handelt sich um das \"Global Carbon Budget\", welches Daten über den CO2 ausstoß diverser Länder und Kontinente enthält, aufgeteilt nach namen.\n",
    "<details>\n",
    "<summary>Zitierung ansehen</summary>\n",
    "Hannah Ritchie (2022) - “CO₂ emissions dataset: our sources and methods” Published online at OurWorldInData.org. Retrieved from: 'https://ourworldindata.org/co2-dataset-sources' [Online Resource]\n",
    "\n",
    "Andrew, R. M., & Peters, G. P. (2023). The Global Carbon Project's fossil CO2 emissions dataset (2023v36) [Data set]. Zenodo. https://doi.org/10.5281/zenodo.10177738\n",
    "\n",
    "The data files of the Global Carbon Budget can be found at: https://globalcarbonbudget.org/carbonbudget/\n",
    "\n",
    "For more details, see the original paper:\n",
    "Friedlingstein, P., O'Sullivan, M., Jones, M. W., Andrew, R. M., Bakker, D. C. E., Hauck, J., Landschützer, P., Le Quéré, C., Luijkx, I. T., Peters, G. P., Peters, W., Pongratz, J., Schwingshackl, C., Sitch, S., Canadell, J. G., Ciais, P., Jackson, R. B., Alin, S. R., Anthoni, P., Barbero, L., Bates, N. R., Becker, M., Bellouin, N., Decharme, B., Bopp, L., Brasika, I. B. M., Cadule, P., Chamberlain, M. A., Chandra, N., Chau, T.-T.-T., Chevallier, F., Chini, L. P., Cronin, M., Dou, X., Enyo, K., Evans, W., Falk, S., Feely, R. A., Feng, L., Ford, D. J., Gasser, T., Ghattas, J., Gkritzalis, T., Grassi, G., Gregor, L., Gruber, N., Gürses, Ö., Harris, I., Hefner, M., Heinke, J., Houghton, R. A., Hurtt, G. C., Iida, Y., Ilyina, T., Jacobson, A. R., Jain, A., Jarníková, T., Jersild, A., Jiang, F., Jin, Z., Joos, F., Kato, E., Keeling, R. F., Kennedy, D., Klein Goldewijk, K., Knauer, J., Korsbakken, J. I., Körtzinger, A., Lan, X., Lefèvre, N., Li, H., Liu, J., Liu, Z., Ma, L., Marland, G., Mayot, N., McGuire, P. C., McKinley, G. A., Meyer, G., Morgan, E. J., Munro, D. R., Nakaoka, S.-I., Niwa, Y., O'Brien, K. M., Olsen, A., Omar, A. M., Ono, T., Paulsen, M., Pierrot, D., Pocock, K., Poulter, B., Powis, C. M., Rehder, G., Resplandy, L., Robertson, E., Rödenbeck, C., Rosan, T. M., Schwinger, J., Séférian, R., Smallman, T. L., Smith, S. M., Sospedra-Alfonso, R., Sun, Q., Sutton, A. J., Sweeney, C., Takao, S., Tans, P. P., Tian, H., Tilbrook, B., Tsujino, H., Tubiello, F., van der Werf, G. R., van Ooijen, E., Wanninkhof, R., Watanabe, M., Wimart-Rousseau, C., Yang, D., Yang, X., Yuan, W., Yue, X., Zaehle, S., Zeng, J., and Zheng, B.: Global Carbon Budget 2023, Earth Syst. Sci. Data, 15, 5301-5369, https://doi.org/10.5194/essd-15-5301-2023, 2023.\n",
    "</details>\n",
    "\n",
    "### Spalten\n",
    "- Alle Spalteninfos lassen sich in der Datei owid-co2-codebook.csv ansehen\n",
    "<br><br>\n",
    "Die wichtigsten Spalten, welche ich benutzt habe waren:\n",
    "\n",
    "## Dataset 2: aravg.mon.land.30N.60N.v6.0.0.202407.asc\n",
    "Dieses Dataset stammt von der Webseite des National Centers for Envriotmental Information, einer Unterorganisation der US-Amerikanischen National Oceanic and Atmospheric Administration, zu deutsch Bundesbehörde für Ozeane und die Atmosphere. Es beinhaltet Temperaturnaomaliedaten vom 30. Breitengrad Nord bis zum 60. Breitengrad Nord. Dieser Bereich geht cirka von Cairo bis Stockholm und beinhaltet damit große Teile von Europa, Nordamerika, Nordasien, Nordafrike und dem Mitleren Osten. Die Temperaturbasis wird dabei aus der Durschnittstemperatur von 1971 bis 2000 berechnet.\n",
    "\n",
    "### Spalten\n",
    "Folgende Spalten sind in dem Dataset vorhanden:\n",
    "1. Jahr\n",
    "2. Monat\n",
    "3. Temperaturanomalie (K)\n",
    "\n",
    "Die restlichen Spalten habe ich entfernt, da alle Felder in ihnen bei -999.000000 lagen.\n",
    "\n",
    "\n",
    "\n",
    "\n",
    "\n",
    "\n"
   ]
  },
  {
   "cell_type": "code",
   "execution_count": 1,
   "metadata": {},
   "outputs": [],
   "source": [
    "import seaborn as sns\n",
    "import matplotlib.pyplot as plt\n",
    "import matplotlib.style as style\n",
    "import pandas as pd"
   ]
  }
 ],
 "metadata": {
  "kernelspec": {
   "display_name": "climate_change",
   "language": "python",
   "name": "python3"
  },
  "language_info": {
   "codemirror_mode": {
    "name": "ipython",
    "version": 3
   },
   "file_extension": ".py",
   "mimetype": "text/x-python",
   "name": "python",
   "nbconvert_exporter": "python",
   "pygments_lexer": "ipython3",
   "version": "3.12.4"
  }
 },
 "nbformat": 4,
 "nbformat_minor": 2
}
