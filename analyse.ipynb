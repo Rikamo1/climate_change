{
 "cells": [
  {
   "cell_type": "markdown",
   "metadata": {},
   "source": [
    "# Datenherkunft\n",
    "## Dataset 1: owid-co2-data.csv\n",
    "Dieses Dataset stammt von der Webseite \"Our World in Data\" und basiert auf Daten des Global Carbon Project. Bei dem Original-Dataset handelt sich um das \"Global Carbon Budget\", welches Daten über den CO2 ausstoß diverser Länder und Kontinente enthält, aufgeteilt nach namen. Für diese Analyse habe ich mich auf Kontinentaleuropa (ohne Rusland und die Türkei) beschränkt. Die restlichen Daten habe ich manuel entfernt. Hierbei habe ich nicht die bereits im Dataset vorhandenen Zeilen für Europ genutzt, da mir nicht bekannt ist ob diese die Türkei und Russland enthalten. Außerdem enthalten diese bestimmte Spalten wie beispielsweise BiP nicht. Dazu exkludiere ich Daten vor 1850 da meine Temperaturdaten dort beginnen und die restlichen Daten dort tendenziell deutlich vollständiger werden. Zudem wurden folgende Länder wegen stark unvollständigen Daten exkludiert: Färöer-Inseln, Gönland, Isle of Man, Bailiwick of Jersey, Monaco, San Marino, Gibralta und der Vatikanstadt.\n",
    "<details>\n",
    "<summary>Zitierung ansehen</summary>\n",
    "Hannah Ritchie (2022) - “CO₂ emissions dataset: our sources and methods” Published online at OurWorldInData.org. Retrieved from: 'https://ourworldindata.org/co2-dataset-sources' [Online Resource]\n",
    "\n",
    "Andrew, R. M., & Peters, G. P. (2023). The Global Carbon Project's fossil CO2 emissions dataset (2023v36) [Data set]. Zenodo. https://doi.org/10.5281/zenodo.10177738\n",
    "\n",
    "The data files of the Global Carbon Budget can be found at: https://globalcarbonbudget.org/carbonbudget/\n",
    "\n",
    "For more details, see the original paper:\n",
    "Friedlingstein, P., O'Sullivan, M., Jones, M. W., Andrew, R. M., Bakker, D. C. E., Hauck, J., Landschützer, P., Le Quéré, C., Luijkx, I. T., Peters, G. P., Peters, W., Pongratz, J., Schwingshackl, C., Sitch, S., Canadell, J. G., Ciais, P., Jackson, R. B., Alin, S. R., Anthoni, P., Barbero, L., Bates, N. R., Becker, M., Bellouin, N., Decharme, B., Bopp, L., Brasika, I. B. M., Cadule, P., Chamberlain, M. A., Chandra, N., Chau, T.-T.-T., Chevallier, F., Chini, L. P., Cronin, M., Dou, X., Enyo, K., Evans, W., Falk, S., Feely, R. A., Feng, L., Ford, D. J., Gasser, T., Ghattas, J., Gkritzalis, T., Grassi, G., Gregor, L., Gruber, N., Gürses, Ö., Harris, I., Hefner, M., Heinke, J., Houghton, R. A., Hurtt, G. C., Iida, Y., Ilyina, T., Jacobson, A. R., Jain, A., Jarníková, T., Jersild, A., Jiang, F., Jin, Z., Joos, F., Kato, E., Keeling, R. F., Kennedy, D., Klein Goldewijk, K., Knauer, J., Korsbakken, J. I., Körtzinger, A., Lan, X., Lefèvre, N., Li, H., Liu, J., Liu, Z., Ma, L., Marland, G., Mayot, N., McGuire, P. C., McKinley, G. A., Meyer, G., Morgan, E. J., Munro, D. R., Nakaoka, S.-I., Niwa, Y., O'Brien, K. M., Olsen, A., Omar, A. M., Ono, T., Paulsen, M., Pierrot, D., Pocock, K., Poulter, B., Powis, C. M., Rehder, G., Resplandy, L., Robertson, E., Rödenbeck, C., Rosan, T. M., Schwinger, J., Séférian, R., Smallman, T. L., Smith, S. M., Sospedra-Alfonso, R., Sun, Q., Sutton, A. J., Sweeney, C., Takao, S., Tans, P. P., Tian, H., Tilbrook, B., Tsujino, H., Tubiello, F., van der Werf, G. R., van Ooijen, E., Wanninkhof, R., Watanabe, M., Wimart-Rousseau, C., Yang, D., Yang, X., Yuan, W., Yue, X., Zaehle, S., Zeng, J., and Zheng, B.: Global Carbon Budget 2023, Earth Syst. Sci. Data, 15, 5301-5369, https://doi.org/10.5194/essd-15-5301-2023, 2023.\n",
    "</details>\n",
    "\n",
    "### Spalten\n",
    "- Alle Spalteninfos lassen sich in der Datei owid-co2-codebook.csv ansehen\n",
    "<br><br>\n",
    "Die wichtigsten Spalten, welche ich benutzt habe waren:\n",
    "\n",
    "## Dataset 2: aravg.mon.land.30N.60N.v6.0.0.202407.asc\n",
    "Dieses Dataset stammt von der Webseite des National Centers for Envriotmental Information, einer Unterorganisation der US-Amerikanischen National Oceanic and Atmospheric Administration, zu deutsch Bundesbehörde für Ozeane und die Atmosphere. Es beinhaltet Temperaturnaomaliedaten vom 30. Breitengrad Nord bis zum 60. Breitengrad Nord. Dieser Bereich geht cirka von Cairo bis Stockholm und beinhaltet damit große Teile von Europa, Nordamerika, Nordasien, Nordafrike und dem Mitleren Osten. Die Temperaturbasis wird dabei aus der Durschnittstemperatur von 1971 bis 2000 berechnet.\n",
    "\n",
    "### Spalten\n",
    "Folgende Spalten sind in dem Dataset vorhanden:\n",
    "1. Jahr\n",
    "2. Monat\n",
    "3. Temperaturanomalie (K)\n",
    "\n",
    "Die restlichen Spalten habe ich entfernt, da alle Felder in ihnen bei -999.000000 lagen.\n",
    "\n",
    "\n",
    "\n",
    "\n",
    "\n",
    "\n"
   ]
  },
  {
   "cell_type": "code",
   "execution_count": 2,
   "metadata": {},
   "outputs": [],
   "source": [
    "import seaborn as sns\n",
    "import matplotlib.pyplot as plt\n",
    "import matplotlib.style as style\n",
    "import pandas as pd"
   ]
  },
  {
   "cell_type": "markdown",
   "metadata": {},
   "source": [
    "# Data Cleaning\n",
    "Zum beginn habe ich das erste Dataset eingelesen und eine Liste von ISO-Ländercodes von Kontinentaleuropa erstellt. Dann habe ich alle Daten die nicht zu Kontinentaleuropa gehören entfernt:"
   ]
  },
  {
   "cell_type": "code",
   "execution_count": 20,
   "metadata": {},
   "outputs": [
    {
     "name": "stdout",
     "output_type": "stream",
     "text": [
      "    1850   1  -3.023366\n",
      "0   1850   2  -1.388585\n",
      "1   1850   3  -1.401455\n",
      "2   1850   4  -2.325503\n",
      "3   1850   5  -1.159711\n",
      "4   1850   6  -0.865922\n",
      "5   1850   7  -0.163545\n",
      "6   1850   8  -0.038406\n",
      "7   1850   9  -0.322183\n",
      "8   1850  10  -1.166775\n",
      "9   1850  11  -0.979965\n",
      "10  1850  12  -0.784478\n",
      "11  1851   1  -1.052070\n",
      "12  1851   2  -0.850808\n",
      "13  1851   3  -1.901888\n",
      "14  1851   4  -1.872691\n",
      "15  1851   5  -1.149302\n",
      "16  1851   6  -1.014586\n",
      "17  1851   7  -0.777406\n",
      "18  1851   8  -0.665128\n",
      "19  1851   9  -0.200413\n"
     ]
    }
   ],
   "source": [
    "# Daten einlesen\n",
    "co_data = pd.read_csv(\"data\\owid-co2-data.csv\")\n",
    "temp_data = pd.read_csv(\"data/aravg.mon.land.30N.60N.v6.0.0.202407.asc\", sep=\"\\s+\")\n",
    "\n",
    "# Liste von Europäischen 3-Zeichen ISO-Ländercodes, abgesehen von Russland, Türkei,Färöer-Inseln, Gönland, Isle of Man, Bailiwick of Jersey, Monaco, San Marino, Gibralta und der Vatikanstadt\n",
    "eu_countries = ['ALB', 'AND', 'AUT', 'BLR', 'BEL', 'BIH', 'BGR', 'HRV', 'CYP', 'CZE', 'DNK', 'EST', 'FIN', 'FRA', 'DEU', 'GRC', 'HUN', 'ISL', 'IRL', 'ITA', 'LVA', 'LIE', 'LTU', 'LUX', 'MKD', 'MLT', 'MDA', 'MNE', 'NLD', 'NOR', 'POL', 'PRT', 'ROU', 'SMR', 'SRB', 'SVK', 'SVN', 'ESP', 'SWE', 'CHE' , 'UKR', 'GBR']\n",
    "\n",
    "# co_data nach Ländercode filtern\n",
    "co_data = co_data[co_data['iso_code'].isin(eu_countries)]"
   ]
  },
  {
   "cell_type": "markdown",
   "metadata": {},
   "source": [
    "Daraufhin habe ich die fehlende Werte entweder durch den Spalten Durschnitt im Bezug auf die entsprechenden Länder oder durch den nächten verfügbaren Wert ersetzt"
   ]
  },
  {
   "cell_type": "code",
   "execution_count": 4,
   "metadata": {},
   "outputs": [
    {
     "name": "stderr",
     "output_type": "stream",
     "text": [
      "C:\\Users\\KrajinovicR\\AppData\\Local\\Temp\\ipykernel_13892\\3325603288.py:5: FutureWarning: Series.fillna with 'method' is deprecated and will raise in a future version. Use obj.ffill() or obj.bfill() instead.\n",
      "  co_data['population'] = co_data.groupby('iso_code')['population'].transform(lambda x: x.fillna(method='bfill'))\n",
      "C:\\Users\\KrajinovicR\\AppData\\Local\\Temp\\ipykernel_13892\\3325603288.py:6: FutureWarning: Series.fillna with 'method' is deprecated and will raise in a future version. Use obj.ffill() or obj.bfill() instead.\n",
      "  co_data['gdp'] = co_data.groupby('iso_code')['gdp'].transform(lambda x: x.fillna(method='bfill'))\n"
     ]
    }
   ],
   "source": [
    "# NaNs in 'co2' durch den Durchschnitt der Spalte in dem Land ersetzen\n",
    "co_data['co2'] = co_data.groupby('iso_code')['co2'].transform(lambda x: x.fillna(x.mean()))\n",
    "\n",
    "# NaNs in Population und GDP durch den wert des folgejahres ersetzen\n",
    "co_data['population'] = co_data.groupby('iso_code')['population'].transform(lambda x: x.fillna(method='bfill'))\n",
    "co_data['gdp'] = co_data.groupby('iso_code')['gdp'].transform(lambda x: x.fillna(method='bfill'))"
   ]
  },
  {
   "cell_type": "markdown",
   "metadata": {},
   "source": [
    "# Explorative Datenanalyse\n",
    "Zu beginn der EDA habe ich mir die Korrelation zwischen CO2 und BiP, sowie die Korrelation zwischen CO2 und Einwohnerzahl angeschaut, welche respektive bei 0.78 und 0.85 lagen:"
   ]
  },
  {
   "cell_type": "code",
   "execution_count": 5,
   "metadata": {},
   "outputs": [
    {
     "name": "stdout",
     "output_type": "stream",
     "text": [
      "          co2       gdp\n",
      "co2  1.000000  0.780352\n",
      "gdp  0.780352  1.000000\n",
      "                 co2  population\n",
      "co2         1.000000    0.846833\n",
      "population  0.846833    1.000000\n"
     ]
    }
   ],
   "source": [
    "style.use('fivethirtyeight')\n",
    "# Korrelation zwischen CO2 und GDP\n",
    "print(co_data[['co2', 'gdp']].corr())\n",
    "\n",
    "# Korrelation zwischen CO2 und Population\n",
    "print(co_data[['co2', 'population']].corr())\n",
    "\n",
    "\n",
    "\n",
    "\n"
   ]
  }
 ],
 "metadata": {
  "kernelspec": {
   "display_name": "climate_change",
   "language": "python",
   "name": "python3"
  },
  "language_info": {
   "codemirror_mode": {
    "name": "ipython",
    "version": 3
   },
   "file_extension": ".py",
   "mimetype": "text/x-python",
   "name": "python",
   "nbconvert_exporter": "python",
   "pygments_lexer": "ipython3",
   "version": "3.11.7"
  }
 },
 "nbformat": 4,
 "nbformat_minor": 2
}
